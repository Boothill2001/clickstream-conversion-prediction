{
  "nbformat": 4,
  "nbformat_minor": 0,
  "metadata": {
    "colab": {
      "provenance": []
    },
    "kernelspec": {
      "name": "python3",
      "display_name": "Python 3"
    },
    "language_info": {
      "name": "python"
    }
  },
  "cells": [
    {
      "cell_type": "markdown",
      "source": [
        "# 📘 Notebook 02c – Dataset Summary Logging\n",
        "\n",
        "🎯 **Objective:**\n",
        "Log summary statistics of the session_features.csv file after feature engineering, including conversion rate, number of sessions, and number of converted sessions. Save the output to `data_summary.json` for future use in modeling, reporting, and tracking.\n",
        "\n",
        "---"
      ],
      "metadata": {
        "id": "1WsAI-fNofi9"
      }
    },
    {
      "cell_type": "code",
      "source": [
        "from google.colab import auth\n",
        "\n",
        "# 🔐 Authenticate GCP\n",
        "auth.authenticate_user()"
      ],
      "metadata": {
        "id": "WzsYy88oofPp"
      },
      "execution_count": 1,
      "outputs": []
    },
    {
      "cell_type": "code",
      "execution_count": 2,
      "metadata": {
        "colab": {
          "base_uri": "https://localhost:8080/"
        },
        "id": "nz56JhgwoM2a",
        "outputId": "5859490c-22f7-4ccc-ea57-5d4290c07ba2"
      },
      "outputs": [
        {
          "output_type": "stream",
          "name": "stdout",
          "text": [
            "✅ Downloaded session_features from GCS to ../data/session_features.csv\n",
            "\n",
            "✅ Summary logged to ../outputs/data_summary.json\n",
            "{'n_sessions': 10000, 'n_features': 10, 'conversion_rate': 0.0545, 'n_converted': 545, 'n_not_converted': 9455, 'timestamp': '2025-03-26T08:47:54.030357'}\n"
          ]
        }
      ],
      "source": [
        "import pandas as pd\n",
        "import json\n",
        "from datetime import datetime\n",
        "import os\n",
        "from google.cloud import storage\n",
        "\n",
        "# ✅ Load session_features.csv from GCS\n",
        "gcs_path = \"clickstream/session_features.csv\"\n",
        "local_path = \"../data/session_features.csv\"\n",
        "os.makedirs(\"../data\", exist_ok=True)\n",
        "\n",
        "client = storage.Client()\n",
        "bucket = client.bucket(\"boothill2001-dataset\")\n",
        "blob = bucket.blob(gcs_path)\n",
        "blob.download_to_filename(local_path)\n",
        "print(f\"✅ Downloaded session_features from GCS to {local_path}\")\n",
        "\n",
        "# ✅ Load processed session features\n",
        "df = pd.read_csv(local_path)\n",
        "\n",
        "# ✅ Calculate summary statistics\n",
        "n_sessions = df.shape[0]\n",
        "n_features = df.shape[1] - 1  # exclude label\n",
        "n_converted = int(df[\"conversion\"].sum())\n",
        "n_not_converted = int(n_sessions - n_converted)\n",
        "conversion_rate = round(n_converted / n_sessions, 4)\n",
        "timestamp = datetime.now().isoformat()\n",
        "\n",
        "summary = {\n",
        "    \"n_sessions\": n_sessions,\n",
        "    \"n_features\": n_features,\n",
        "    \"conversion_rate\": conversion_rate,\n",
        "    \"n_converted\": n_converted,\n",
        "    \"n_not_converted\": n_not_converted,\n",
        "    \"timestamp\": timestamp\n",
        "}\n",
        "\n",
        "# ✅ Save summary to JSON\n",
        "os.makedirs(\"../outputs\", exist_ok=True)\n",
        "with open(\"../outputs/data_summary.json\", \"w\") as f:\n",
        "    json.dump(summary, f, indent=2)\n",
        "\n",
        "print(\"\\n✅ Summary logged to ../outputs/data_summary.json\")\n",
        "print(summary)\n"
      ]
    }
  ]
}
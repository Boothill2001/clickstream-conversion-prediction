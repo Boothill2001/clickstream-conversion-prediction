{
  "nbformat": 4,
  "nbformat_minor": 0,
  "metadata": {
    "colab": {
      "provenance": []
    },
    "kernelspec": {
      "name": "python3",
      "display_name": "Python 3"
    },
    "language_info": {
      "name": "python"
    }
  },
  "cells": [
    {
      "cell_type": "markdown",
      "source": [
        "# 📘 Notebook 03b – Advanced Modeling with CatBoost & Optuna\n",
        "\n",
        "🎯 **Objective:**\n",
        "Train and tune a CatBoost model using Optuna on session-level data to predict conversion. Log performance metrics and best parameters.\n",
        "\n",
        "---"
      ],
      "metadata": {
        "id": "Oa0OrG-D0XkI"
      }
    },
    {
      "source": [
        "!pip install optuna"
      ],
      "cell_type": "code",
      "metadata": {
        "colab": {
          "base_uri": "https://localhost:8080/"
        },
        "collapsed": true,
        "id": "LNzzn5Rw0m4D",
        "outputId": "223f0a66-1d3f-4114-f23b-9c8752dc9b6d"
      },
      "execution_count": 2,
      "outputs": [
        {
          "output_type": "stream",
          "name": "stdout",
          "text": [
            "Collecting optuna\n",
            "  Downloading optuna-4.2.1-py3-none-any.whl.metadata (17 kB)\n",
            "Collecting alembic>=1.5.0 (from optuna)\n",
            "  Downloading alembic-1.15.1-py3-none-any.whl.metadata (7.2 kB)\n",
            "Collecting colorlog (from optuna)\n",
            "  Downloading colorlog-6.9.0-py3-none-any.whl.metadata (10 kB)\n",
            "Requirement already satisfied: numpy in /usr/local/lib/python3.11/dist-packages (from optuna) (2.0.2)\n",
            "Requirement already satisfied: packaging>=20.0 in /usr/local/lib/python3.11/dist-packages (from optuna) (24.2)\n",
            "Requirement already satisfied: sqlalchemy>=1.4.2 in /usr/local/lib/python3.11/dist-packages (from optuna) (2.0.39)\n",
            "Requirement already satisfied: tqdm in /usr/local/lib/python3.11/dist-packages (from optuna) (4.67.1)\n",
            "Requirement already satisfied: PyYAML in /usr/local/lib/python3.11/dist-packages (from optuna) (6.0.2)\n",
            "Requirement already satisfied: Mako in /usr/lib/python3/dist-packages (from alembic>=1.5.0->optuna) (1.1.3)\n",
            "Requirement already satisfied: typing-extensions>=4.12 in /usr/local/lib/python3.11/dist-packages (from alembic>=1.5.0->optuna) (4.12.2)\n",
            "Requirement already satisfied: greenlet!=0.4.17 in /usr/local/lib/python3.11/dist-packages (from sqlalchemy>=1.4.2->optuna) (3.1.1)\n",
            "Downloading optuna-4.2.1-py3-none-any.whl (383 kB)\n",
            "\u001b[2K   \u001b[90m━━━━━━━━━━━━━━━━━━━━━━━━━━━━━━━━━━━━━━━━\u001b[0m \u001b[32m383.6/383.6 kB\u001b[0m \u001b[31m20.7 MB/s\u001b[0m eta \u001b[36m0:00:00\u001b[0m\n",
            "\u001b[?25hDownloading alembic-1.15.1-py3-none-any.whl (231 kB)\n",
            "\u001b[2K   \u001b[90m━━━━━━━━━━━━━━━━━━━━━━━━━━━━━━━━━━━━━━━━\u001b[0m \u001b[32m231.8/231.8 kB\u001b[0m \u001b[31m17.1 MB/s\u001b[0m eta \u001b[36m0:00:00\u001b[0m\n",
            "\u001b[?25hDownloading colorlog-6.9.0-py3-none-any.whl (11 kB)\n",
            "Installing collected packages: colorlog, alembic, optuna\n",
            "Successfully installed alembic-1.15.1 colorlog-6.9.0 optuna-4.2.1\n"
          ]
        }
      ]
    },
    {
      "source": [
        "!pip install catboost"
      ],
      "cell_type": "code",
      "metadata": {
        "colab": {
          "base_uri": "https://localhost:8080/"
        },
        "collapsed": true,
        "id": "I5sW8jmu05NO",
        "outputId": "e2fbb285-d713-4b90-b285-52926296e527"
      },
      "execution_count": 4,
      "outputs": [
        {
          "output_type": "stream",
          "name": "stdout",
          "text": [
            "Collecting catboost\n",
            "  Downloading catboost-1.2.7-cp311-cp311-manylinux2014_x86_64.whl.metadata (1.2 kB)\n",
            "Requirement already satisfied: graphviz in /usr/local/lib/python3.11/dist-packages (from catboost) (0.20.3)\n",
            "Requirement already satisfied: matplotlib in /usr/local/lib/python3.11/dist-packages (from catboost) (3.10.0)\n",
            "Collecting numpy<2.0,>=1.16.0 (from catboost)\n",
            "  Downloading numpy-1.26.4-cp311-cp311-manylinux_2_17_x86_64.manylinux2014_x86_64.whl.metadata (61 kB)\n",
            "\u001b[2K     \u001b[90m━━━━━━━━━━━━━━━━━━━━━━━━━━━━━━━━━━━━━━━━\u001b[0m \u001b[32m61.0/61.0 kB\u001b[0m \u001b[31m3.5 MB/s\u001b[0m eta \u001b[36m0:00:00\u001b[0m\n",
            "\u001b[?25hRequirement already satisfied: pandas>=0.24 in /usr/local/lib/python3.11/dist-packages (from catboost) (2.2.2)\n",
            "Requirement already satisfied: scipy in /usr/local/lib/python3.11/dist-packages (from catboost) (1.14.1)\n",
            "Requirement already satisfied: plotly in /usr/local/lib/python3.11/dist-packages (from catboost) (5.24.1)\n",
            "Requirement already satisfied: six in /usr/local/lib/python3.11/dist-packages (from catboost) (1.17.0)\n",
            "Requirement already satisfied: python-dateutil>=2.8.2 in /usr/local/lib/python3.11/dist-packages (from pandas>=0.24->catboost) (2.8.2)\n",
            "Requirement already satisfied: pytz>=2020.1 in /usr/local/lib/python3.11/dist-packages (from pandas>=0.24->catboost) (2025.1)\n",
            "Requirement already satisfied: tzdata>=2022.7 in /usr/local/lib/python3.11/dist-packages (from pandas>=0.24->catboost) (2025.1)\n",
            "Requirement already satisfied: contourpy>=1.0.1 in /usr/local/lib/python3.11/dist-packages (from matplotlib->catboost) (1.3.1)\n",
            "Requirement already satisfied: cycler>=0.10 in /usr/local/lib/python3.11/dist-packages (from matplotlib->catboost) (0.12.1)\n",
            "Requirement already satisfied: fonttools>=4.22.0 in /usr/local/lib/python3.11/dist-packages (from matplotlib->catboost) (4.56.0)\n",
            "Requirement already satisfied: kiwisolver>=1.3.1 in /usr/local/lib/python3.11/dist-packages (from matplotlib->catboost) (1.4.8)\n",
            "Requirement already satisfied: packaging>=20.0 in /usr/local/lib/python3.11/dist-packages (from matplotlib->catboost) (24.2)\n",
            "Requirement already satisfied: pillow>=8 in /usr/local/lib/python3.11/dist-packages (from matplotlib->catboost) (11.1.0)\n",
            "Requirement already satisfied: pyparsing>=2.3.1 in /usr/local/lib/python3.11/dist-packages (from matplotlib->catboost) (3.2.1)\n",
            "Requirement already satisfied: tenacity>=6.2.0 in /usr/local/lib/python3.11/dist-packages (from plotly->catboost) (9.0.0)\n",
            "Downloading catboost-1.2.7-cp311-cp311-manylinux2014_x86_64.whl (98.7 MB)\n",
            "\u001b[2K   \u001b[90m━━━━━━━━━━━━━━━━━━━━━━━━━━━━━━━━━━━━━━━━\u001b[0m \u001b[32m98.7/98.7 MB\u001b[0m \u001b[31m9.4 MB/s\u001b[0m eta \u001b[36m0:00:00\u001b[0m\n",
            "\u001b[?25hDownloading numpy-1.26.4-cp311-cp311-manylinux_2_17_x86_64.manylinux2014_x86_64.whl (18.3 MB)\n",
            "\u001b[2K   \u001b[90m━━━━━━━━━━━━━━━━━━━━━━━━━━━━━━━━━━━━━━━━\u001b[0m \u001b[32m18.3/18.3 MB\u001b[0m \u001b[31m88.2 MB/s\u001b[0m eta \u001b[36m0:00:00\u001b[0m\n",
            "\u001b[?25hInstalling collected packages: numpy, catboost\n",
            "  Attempting uninstall: numpy\n",
            "    Found existing installation: numpy 2.0.2\n",
            "    Uninstalling numpy-2.0.2:\n",
            "      Successfully uninstalled numpy-2.0.2\n",
            "Successfully installed catboost-1.2.7 numpy-1.26.4\n"
          ]
        }
      ]
    },
    {
      "source": [
        "!pip install numpy==1.23.5  # Replace with compatible version\n",
        "!pip install catboost==1.2.0  # Replace with compatible version"
      ],
      "cell_type": "code",
      "metadata": {
        "colab": {
          "base_uri": "https://localhost:8080/",
          "height": 1000
        },
        "collapsed": true,
        "id": "5G8j9nCk1HeB",
        "outputId": "504fe25e-e2ab-4522-855a-c18105ea468d"
      },
      "execution_count": 6,
      "outputs": [
        {
          "output_type": "stream",
          "name": "stdout",
          "text": [
            "Collecting numpy==1.23.5\n",
            "  Downloading numpy-1.23.5-cp311-cp311-manylinux_2_17_x86_64.manylinux2014_x86_64.whl.metadata (2.3 kB)\n",
            "Downloading numpy-1.23.5-cp311-cp311-manylinux_2_17_x86_64.manylinux2014_x86_64.whl (17.1 MB)\n",
            "\u001b[2K   \u001b[90m━━━━━━━━━━━━━━━━━━━━━━━━━━━━━━━━━━━━━━━━\u001b[0m \u001b[32m17.1/17.1 MB\u001b[0m \u001b[31m81.7 MB/s\u001b[0m eta \u001b[36m0:00:00\u001b[0m\n",
            "\u001b[?25hInstalling collected packages: numpy\n",
            "  Attempting uninstall: numpy\n",
            "    Found existing installation: numpy 1.26.4\n",
            "    Uninstalling numpy-1.26.4:\n",
            "      Successfully uninstalled numpy-1.26.4\n",
            "\u001b[31mERROR: pip's dependency resolver does not currently take into account all the packages that are installed. This behaviour is the source of the following dependency conflicts.\n",
            "jaxlib 0.5.1 requires numpy>=1.25, but you have numpy 1.23.5 which is incompatible.\n",
            "treescope 0.1.9 requires numpy>=1.25.2, but you have numpy 1.23.5 which is incompatible.\n",
            "albucore 0.0.23 requires numpy>=1.24.4, but you have numpy 1.23.5 which is incompatible.\n",
            "blosc2 3.2.0 requires numpy>=1.26, but you have numpy 1.23.5 which is incompatible.\n",
            "chex 0.1.89 requires numpy>=1.24.1, but you have numpy 1.23.5 which is incompatible.\n",
            "jax 0.5.2 requires numpy>=1.25, but you have numpy 1.23.5 which is incompatible.\n",
            "bigframes 1.41.0 requires numpy>=1.24.0, but you have numpy 1.23.5 which is incompatible.\n",
            "imbalanced-learn 0.13.0 requires numpy<3,>=1.24.3, but you have numpy 1.23.5 which is incompatible.\n",
            "xarray 2025.1.2 requires numpy>=1.24, but you have numpy 1.23.5 which is incompatible.\n",
            "albumentations 2.0.5 requires numpy>=1.24.4, but you have numpy 1.23.5 which is incompatible.\n",
            "scikit-image 0.25.2 requires numpy>=1.24, but you have numpy 1.23.5 which is incompatible.\n",
            "tensorflow 2.18.0 requires numpy<2.1.0,>=1.26.0, but you have numpy 1.23.5 which is incompatible.\n",
            "pymc 5.21.1 requires numpy>=1.25.0, but you have numpy 1.23.5 which is incompatible.\u001b[0m\u001b[31m\n",
            "\u001b[0mSuccessfully installed numpy-1.23.5\n"
          ]
        },
        {
          "output_type": "display_data",
          "data": {
            "application/vnd.colab-display-data+json": {
              "pip_warning": {
                "packages": [
                  "numpy"
                ]
              },
              "id": "5a71f4d63b204aefa2339d086c1b7fbb"
            }
          },
          "metadata": {}
        },
        {
          "output_type": "stream",
          "name": "stdout",
          "text": [
            "Collecting catboost==1.2.0\n",
            "  Downloading catboost-1.2-cp311-cp311-manylinux2014_x86_64.whl.metadata (1.2 kB)\n",
            "Requirement already satisfied: graphviz in /usr/local/lib/python3.11/dist-packages (from catboost==1.2.0) (0.20.3)\n",
            "Requirement already satisfied: matplotlib in /usr/local/lib/python3.11/dist-packages (from catboost==1.2.0) (3.10.0)\n",
            "Requirement already satisfied: numpy>=1.16.0 in /usr/local/lib/python3.11/dist-packages (from catboost==1.2.0) (1.23.5)\n",
            "Requirement already satisfied: pandas>=0.24 in /usr/local/lib/python3.11/dist-packages (from catboost==1.2.0) (2.2.2)\n",
            "Requirement already satisfied: scipy in /usr/local/lib/python3.11/dist-packages (from catboost==1.2.0) (1.14.1)\n",
            "Requirement already satisfied: plotly in /usr/local/lib/python3.11/dist-packages (from catboost==1.2.0) (5.24.1)\n",
            "Requirement already satisfied: six in /usr/local/lib/python3.11/dist-packages (from catboost==1.2.0) (1.17.0)\n",
            "Requirement already satisfied: python-dateutil>=2.8.2 in /usr/local/lib/python3.11/dist-packages (from pandas>=0.24->catboost==1.2.0) (2.8.2)\n",
            "Requirement already satisfied: pytz>=2020.1 in /usr/local/lib/python3.11/dist-packages (from pandas>=0.24->catboost==1.2.0) (2025.1)\n",
            "Requirement already satisfied: tzdata>=2022.7 in /usr/local/lib/python3.11/dist-packages (from pandas>=0.24->catboost==1.2.0) (2025.1)\n",
            "Requirement already satisfied: contourpy>=1.0.1 in /usr/local/lib/python3.11/dist-packages (from matplotlib->catboost==1.2.0) (1.3.1)\n",
            "Requirement already satisfied: cycler>=0.10 in /usr/local/lib/python3.11/dist-packages (from matplotlib->catboost==1.2.0) (0.12.1)\n",
            "Requirement already satisfied: fonttools>=4.22.0 in /usr/local/lib/python3.11/dist-packages (from matplotlib->catboost==1.2.0) (4.56.0)\n",
            "Requirement already satisfied: kiwisolver>=1.3.1 in /usr/local/lib/python3.11/dist-packages (from matplotlib->catboost==1.2.0) (1.4.8)\n",
            "Requirement already satisfied: packaging>=20.0 in /usr/local/lib/python3.11/dist-packages (from matplotlib->catboost==1.2.0) (24.2)\n",
            "Requirement already satisfied: pillow>=8 in /usr/local/lib/python3.11/dist-packages (from matplotlib->catboost==1.2.0) (11.1.0)\n",
            "Requirement already satisfied: pyparsing>=2.3.1 in /usr/local/lib/python3.11/dist-packages (from matplotlib->catboost==1.2.0) (3.2.1)\n",
            "Requirement already satisfied: tenacity>=6.2.0 in /usr/local/lib/python3.11/dist-packages (from plotly->catboost==1.2.0) (9.0.0)\n",
            "Downloading catboost-1.2-cp311-cp311-manylinux2014_x86_64.whl (98.5 MB)\n",
            "\u001b[2K   \u001b[90m━━━━━━━━━━━━━━━━━━━━━━━━━━━━━━━━━━━━━━━━\u001b[0m \u001b[32m98.5/98.5 MB\u001b[0m \u001b[31m8.2 MB/s\u001b[0m eta \u001b[36m0:00:00\u001b[0m\n",
            "\u001b[?25hInstalling collected packages: catboost\n",
            "  Attempting uninstall: catboost\n",
            "    Found existing installation: catboost 1.2.7\n",
            "    Uninstalling catboost-1.2.7:\n",
            "      Successfully uninstalled catboost-1.2.7\n",
            "Successfully installed catboost-1.2\n"
          ]
        },
        {
          "output_type": "display_data",
          "data": {
            "application/vnd.colab-display-data+json": {
              "pip_warning": {
                "packages": [
                  "_catboost"
                ]
              },
              "id": "e6f6e571bcfc40c09666525f790215ab"
            }
          },
          "metadata": {}
        }
      ]
    },
    {
      "cell_type": "code",
      "execution_count": 1,
      "metadata": {
        "colab": {
          "base_uri": "https://localhost:8080/"
        },
        "id": "-fkf4whT0VE8",
        "outputId": "9f9f17f6-5083-481f-bb45-3db0eb067b07"
      },
      "outputs": [
        {
          "output_type": "stream",
          "name": "stderr",
          "text": [
            "[I 2025-03-26 09:42:49,766] A new study created in memory with name: no-name-17a90602-ac82-4a47-adff-efbad2c9152d\n"
          ]
        },
        {
          "output_type": "stream",
          "name": "stdout",
          "text": [
            "✅ Downloaded cleaned dataset to ../data/session_features_clean.csv\n"
          ]
        },
        {
          "output_type": "stream",
          "name": "stderr",
          "text": [
            "<ipython-input-1-1f19dbb817cb>:42: FutureWarning: suggest_loguniform has been deprecated in v3.0.0. This feature will be removed in v6.0.0. See https://github.com/optuna/optuna/releases/tag/v3.0.0. Use suggest_float(..., log=True) instead.\n",
            "  \"learning_rate\": trial.suggest_loguniform(\"learning_rate\", 0.01, 0.3),\n",
            "<ipython-input-1-1f19dbb817cb>:44: FutureWarning: suggest_loguniform has been deprecated in v3.0.0. This feature will be removed in v6.0.0. See https://github.com/optuna/optuna/releases/tag/v3.0.0. Use suggest_float(..., log=True) instead.\n",
            "  \"l2_leaf_reg\": trial.suggest_loguniform(\"l2_leaf_reg\", 1, 10),\n",
            "[I 2025-03-26 09:42:50,350] Trial 0 finished with value: 1.0 and parameters: {'learning_rate': 0.05185916743101991, 'depth': 7, 'l2_leaf_reg': 4.950278393536486}. Best is trial 0 with value: 1.0.\n",
            "<ipython-input-1-1f19dbb817cb>:42: FutureWarning: suggest_loguniform has been deprecated in v3.0.0. This feature will be removed in v6.0.0. See https://github.com/optuna/optuna/releases/tag/v3.0.0. Use suggest_float(..., log=True) instead.\n",
            "  \"learning_rate\": trial.suggest_loguniform(\"learning_rate\", 0.01, 0.3),\n",
            "<ipython-input-1-1f19dbb817cb>:44: FutureWarning: suggest_loguniform has been deprecated in v3.0.0. This feature will be removed in v6.0.0. See https://github.com/optuna/optuna/releases/tag/v3.0.0. Use suggest_float(..., log=True) instead.\n",
            "  \"l2_leaf_reg\": trial.suggest_loguniform(\"l2_leaf_reg\", 1, 10),\n",
            "[I 2025-03-26 09:42:50,840] Trial 1 finished with value: 1.0 and parameters: {'learning_rate': 0.06470012257124624, 'depth': 8, 'l2_leaf_reg': 5.4040657348753465}. Best is trial 0 with value: 1.0.\n",
            "<ipython-input-1-1f19dbb817cb>:42: FutureWarning: suggest_loguniform has been deprecated in v3.0.0. This feature will be removed in v6.0.0. See https://github.com/optuna/optuna/releases/tag/v3.0.0. Use suggest_float(..., log=True) instead.\n",
            "  \"learning_rate\": trial.suggest_loguniform(\"learning_rate\", 0.01, 0.3),\n",
            "<ipython-input-1-1f19dbb817cb>:44: FutureWarning: suggest_loguniform has been deprecated in v3.0.0. This feature will be removed in v6.0.0. See https://github.com/optuna/optuna/releases/tag/v3.0.0. Use suggest_float(..., log=True) instead.\n",
            "  \"l2_leaf_reg\": trial.suggest_loguniform(\"l2_leaf_reg\", 1, 10),\n",
            "[I 2025-03-26 09:42:51,556] Trial 2 finished with value: 1.0 and parameters: {'learning_rate': 0.28962478897054966, 'depth': 9, 'l2_leaf_reg': 1.7770110564427586}. Best is trial 0 with value: 1.0.\n",
            "<ipython-input-1-1f19dbb817cb>:42: FutureWarning: suggest_loguniform has been deprecated in v3.0.0. This feature will be removed in v6.0.0. See https://github.com/optuna/optuna/releases/tag/v3.0.0. Use suggest_float(..., log=True) instead.\n",
            "  \"learning_rate\": trial.suggest_loguniform(\"learning_rate\", 0.01, 0.3),\n",
            "<ipython-input-1-1f19dbb817cb>:44: FutureWarning: suggest_loguniform has been deprecated in v3.0.0. This feature will be removed in v6.0.0. See https://github.com/optuna/optuna/releases/tag/v3.0.0. Use suggest_float(..., log=True) instead.\n",
            "  \"l2_leaf_reg\": trial.suggest_loguniform(\"l2_leaf_reg\", 1, 10),\n",
            "[I 2025-03-26 09:42:51,977] Trial 3 finished with value: 1.0 and parameters: {'learning_rate': 0.1367804470935918, 'depth': 6, 'l2_leaf_reg': 1.7685948044885251}. Best is trial 0 with value: 1.0.\n",
            "<ipython-input-1-1f19dbb817cb>:42: FutureWarning: suggest_loguniform has been deprecated in v3.0.0. This feature will be removed in v6.0.0. See https://github.com/optuna/optuna/releases/tag/v3.0.0. Use suggest_float(..., log=True) instead.\n",
            "  \"learning_rate\": trial.suggest_loguniform(\"learning_rate\", 0.01, 0.3),\n",
            "<ipython-input-1-1f19dbb817cb>:44: FutureWarning: suggest_loguniform has been deprecated in v3.0.0. This feature will be removed in v6.0.0. See https://github.com/optuna/optuna/releases/tag/v3.0.0. Use suggest_float(..., log=True) instead.\n",
            "  \"l2_leaf_reg\": trial.suggest_loguniform(\"l2_leaf_reg\", 1, 10),\n",
            "[I 2025-03-26 09:42:52,785] Trial 4 finished with value: 1.0 and parameters: {'learning_rate': 0.07298979270434779, 'depth': 9, 'l2_leaf_reg': 2.3670259136583134}. Best is trial 0 with value: 1.0.\n",
            "<ipython-input-1-1f19dbb817cb>:42: FutureWarning: suggest_loguniform has been deprecated in v3.0.0. This feature will be removed in v6.0.0. See https://github.com/optuna/optuna/releases/tag/v3.0.0. Use suggest_float(..., log=True) instead.\n",
            "  \"learning_rate\": trial.suggest_loguniform(\"learning_rate\", 0.01, 0.3),\n",
            "<ipython-input-1-1f19dbb817cb>:44: FutureWarning: suggest_loguniform has been deprecated in v3.0.0. This feature will be removed in v6.0.0. See https://github.com/optuna/optuna/releases/tag/v3.0.0. Use suggest_float(..., log=True) instead.\n",
            "  \"l2_leaf_reg\": trial.suggest_loguniform(\"l2_leaf_reg\", 1, 10),\n",
            "[I 2025-03-26 09:42:53,398] Trial 5 finished with value: 1.0 and parameters: {'learning_rate': 0.023249340251416516, 'depth': 8, 'l2_leaf_reg': 4.935450328069592}. Best is trial 0 with value: 1.0.\n",
            "<ipython-input-1-1f19dbb817cb>:42: FutureWarning: suggest_loguniform has been deprecated in v3.0.0. This feature will be removed in v6.0.0. See https://github.com/optuna/optuna/releases/tag/v3.0.0. Use suggest_float(..., log=True) instead.\n",
            "  \"learning_rate\": trial.suggest_loguniform(\"learning_rate\", 0.01, 0.3),\n",
            "<ipython-input-1-1f19dbb817cb>:44: FutureWarning: suggest_loguniform has been deprecated in v3.0.0. This feature will be removed in v6.0.0. See https://github.com/optuna/optuna/releases/tag/v3.0.0. Use suggest_float(..., log=True) instead.\n",
            "  \"l2_leaf_reg\": trial.suggest_loguniform(\"l2_leaf_reg\", 1, 10),\n",
            "[I 2025-03-26 09:42:54,010] Trial 6 finished with value: 1.0 and parameters: {'learning_rate': 0.0281922460826742, 'depth': 10, 'l2_leaf_reg': 1.7153043897100646}. Best is trial 0 with value: 1.0.\n",
            "<ipython-input-1-1f19dbb817cb>:42: FutureWarning: suggest_loguniform has been deprecated in v3.0.0. This feature will be removed in v6.0.0. See https://github.com/optuna/optuna/releases/tag/v3.0.0. Use suggest_float(..., log=True) instead.\n",
            "  \"learning_rate\": trial.suggest_loguniform(\"learning_rate\", 0.01, 0.3),\n",
            "<ipython-input-1-1f19dbb817cb>:44: FutureWarning: suggest_loguniform has been deprecated in v3.0.0. This feature will be removed in v6.0.0. See https://github.com/optuna/optuna/releases/tag/v3.0.0. Use suggest_float(..., log=True) instead.\n",
            "  \"l2_leaf_reg\": trial.suggest_loguniform(\"l2_leaf_reg\", 1, 10),\n",
            "[I 2025-03-26 09:42:54,154] Trial 7 finished with value: 1.0 and parameters: {'learning_rate': 0.10136153481403805, 'depth': 5, 'l2_leaf_reg': 1.1849310923815515}. Best is trial 0 with value: 1.0.\n",
            "<ipython-input-1-1f19dbb817cb>:42: FutureWarning: suggest_loguniform has been deprecated in v3.0.0. This feature will be removed in v6.0.0. See https://github.com/optuna/optuna/releases/tag/v3.0.0. Use suggest_float(..., log=True) instead.\n",
            "  \"learning_rate\": trial.suggest_loguniform(\"learning_rate\", 0.01, 0.3),\n",
            "<ipython-input-1-1f19dbb817cb>:44: FutureWarning: suggest_loguniform has been deprecated in v3.0.0. This feature will be removed in v6.0.0. See https://github.com/optuna/optuna/releases/tag/v3.0.0. Use suggest_float(..., log=True) instead.\n",
            "  \"l2_leaf_reg\": trial.suggest_loguniform(\"l2_leaf_reg\", 1, 10),\n",
            "[I 2025-03-26 09:42:54,483] Trial 8 finished with value: 1.0 and parameters: {'learning_rate': 0.16367622660835626, 'depth': 9, 'l2_leaf_reg': 3.9439365546418648}. Best is trial 0 with value: 1.0.\n",
            "<ipython-input-1-1f19dbb817cb>:42: FutureWarning: suggest_loguniform has been deprecated in v3.0.0. This feature will be removed in v6.0.0. See https://github.com/optuna/optuna/releases/tag/v3.0.0. Use suggest_float(..., log=True) instead.\n",
            "  \"learning_rate\": trial.suggest_loguniform(\"learning_rate\", 0.01, 0.3),\n",
            "<ipython-input-1-1f19dbb817cb>:44: FutureWarning: suggest_loguniform has been deprecated in v3.0.0. This feature will be removed in v6.0.0. See https://github.com/optuna/optuna/releases/tag/v3.0.0. Use suggest_float(..., log=True) instead.\n",
            "  \"l2_leaf_reg\": trial.suggest_loguniform(\"l2_leaf_reg\", 1, 10),\n",
            "[I 2025-03-26 09:42:54,616] Trial 9 finished with value: 1.0 and parameters: {'learning_rate': 0.025903815520444278, 'depth': 4, 'l2_leaf_reg': 1.2756978903404297}. Best is trial 0 with value: 1.0.\n",
            "<ipython-input-1-1f19dbb817cb>:42: FutureWarning: suggest_loguniform has been deprecated in v3.0.0. This feature will be removed in v6.0.0. See https://github.com/optuna/optuna/releases/tag/v3.0.0. Use suggest_float(..., log=True) instead.\n",
            "  \"learning_rate\": trial.suggest_loguniform(\"learning_rate\", 0.01, 0.3),\n",
            "<ipython-input-1-1f19dbb817cb>:44: FutureWarning: suggest_loguniform has been deprecated in v3.0.0. This feature will be removed in v6.0.0. See https://github.com/optuna/optuna/releases/tag/v3.0.0. Use suggest_float(..., log=True) instead.\n",
            "  \"l2_leaf_reg\": trial.suggest_loguniform(\"l2_leaf_reg\", 1, 10),\n",
            "[I 2025-03-26 09:42:54,789] Trial 10 finished with value: 1.0 and parameters: {'learning_rate': 0.010774967059684806, 'depth': 6, 'l2_leaf_reg': 9.019319057272053}. Best is trial 0 with value: 1.0.\n",
            "<ipython-input-1-1f19dbb817cb>:42: FutureWarning: suggest_loguniform has been deprecated in v3.0.0. This feature will be removed in v6.0.0. See https://github.com/optuna/optuna/releases/tag/v3.0.0. Use suggest_float(..., log=True) instead.\n",
            "  \"learning_rate\": trial.suggest_loguniform(\"learning_rate\", 0.01, 0.3),\n",
            "<ipython-input-1-1f19dbb817cb>:44: FutureWarning: suggest_loguniform has been deprecated in v3.0.0. This feature will be removed in v6.0.0. See https://github.com/optuna/optuna/releases/tag/v3.0.0. Use suggest_float(..., log=True) instead.\n",
            "  \"l2_leaf_reg\": trial.suggest_loguniform(\"l2_leaf_reg\", 1, 10),\n",
            "[I 2025-03-26 09:42:54,996] Trial 11 finished with value: 1.0 and parameters: {'learning_rate': 0.051334296188739616, 'depth': 7, 'l2_leaf_reg': 6.86821268626398}. Best is trial 0 with value: 1.0.\n",
            "<ipython-input-1-1f19dbb817cb>:42: FutureWarning: suggest_loguniform has been deprecated in v3.0.0. This feature will be removed in v6.0.0. See https://github.com/optuna/optuna/releases/tag/v3.0.0. Use suggest_float(..., log=True) instead.\n",
            "  \"learning_rate\": trial.suggest_loguniform(\"learning_rate\", 0.01, 0.3),\n",
            "<ipython-input-1-1f19dbb817cb>:44: FutureWarning: suggest_loguniform has been deprecated in v3.0.0. This feature will be removed in v6.0.0. See https://github.com/optuna/optuna/releases/tag/v3.0.0. Use suggest_float(..., log=True) instead.\n",
            "  \"l2_leaf_reg\": trial.suggest_loguniform(\"l2_leaf_reg\", 1, 10),\n",
            "[I 2025-03-26 09:42:55,207] Trial 12 finished with value: 1.0 and parameters: {'learning_rate': 0.04502477607502065, 'depth': 7, 'l2_leaf_reg': 4.973333112191027}. Best is trial 0 with value: 1.0.\n",
            "<ipython-input-1-1f19dbb817cb>:42: FutureWarning: suggest_loguniform has been deprecated in v3.0.0. This feature will be removed in v6.0.0. See https://github.com/optuna/optuna/releases/tag/v3.0.0. Use suggest_float(..., log=True) instead.\n",
            "  \"learning_rate\": trial.suggest_loguniform(\"learning_rate\", 0.01, 0.3),\n",
            "<ipython-input-1-1f19dbb817cb>:44: FutureWarning: suggest_loguniform has been deprecated in v3.0.0. This feature will be removed in v6.0.0. See https://github.com/optuna/optuna/releases/tag/v3.0.0. Use suggest_float(..., log=True) instead.\n",
            "  \"l2_leaf_reg\": trial.suggest_loguniform(\"l2_leaf_reg\", 1, 10),\n",
            "[I 2025-03-26 09:42:55,481] Trial 13 finished with value: 1.0 and parameters: {'learning_rate': 0.06884660721833491, 'depth': 8, 'l2_leaf_reg': 3.280623204675501}. Best is trial 0 with value: 1.0.\n",
            "<ipython-input-1-1f19dbb817cb>:42: FutureWarning: suggest_loguniform has been deprecated in v3.0.0. This feature will be removed in v6.0.0. See https://github.com/optuna/optuna/releases/tag/v3.0.0. Use suggest_float(..., log=True) instead.\n",
            "  \"learning_rate\": trial.suggest_loguniform(\"learning_rate\", 0.01, 0.3),\n",
            "<ipython-input-1-1f19dbb817cb>:44: FutureWarning: suggest_loguniform has been deprecated in v3.0.0. This feature will be removed in v6.0.0. See https://github.com/optuna/optuna/releases/tag/v3.0.0. Use suggest_float(..., log=True) instead.\n",
            "  \"l2_leaf_reg\": trial.suggest_loguniform(\"l2_leaf_reg\", 1, 10),\n",
            "[I 2025-03-26 09:42:55,734] Trial 14 finished with value: 1.0 and parameters: {'learning_rate': 0.04232785527615429, 'depth': 8, 'l2_leaf_reg': 6.772484940475494}. Best is trial 0 with value: 1.0.\n",
            "<ipython-input-1-1f19dbb817cb>:42: FutureWarning: suggest_loguniform has been deprecated in v3.0.0. This feature will be removed in v6.0.0. See https://github.com/optuna/optuna/releases/tag/v3.0.0. Use suggest_float(..., log=True) instead.\n",
            "  \"learning_rate\": trial.suggest_loguniform(\"learning_rate\", 0.01, 0.3),\n",
            "<ipython-input-1-1f19dbb817cb>:44: FutureWarning: suggest_loguniform has been deprecated in v3.0.0. This feature will be removed in v6.0.0. See https://github.com/optuna/optuna/releases/tag/v3.0.0. Use suggest_float(..., log=True) instead.\n",
            "  \"l2_leaf_reg\": trial.suggest_loguniform(\"l2_leaf_reg\", 1, 10),\n",
            "[I 2025-03-26 09:42:55,912] Trial 15 finished with value: 1.0 and parameters: {'learning_rate': 0.016687808999453976, 'depth': 6, 'l2_leaf_reg': 5.251380344682378}. Best is trial 0 with value: 1.0.\n",
            "<ipython-input-1-1f19dbb817cb>:42: FutureWarning: suggest_loguniform has been deprecated in v3.0.0. This feature will be removed in v6.0.0. See https://github.com/optuna/optuna/releases/tag/v3.0.0. Use suggest_float(..., log=True) instead.\n",
            "  \"learning_rate\": trial.suggest_loguniform(\"learning_rate\", 0.01, 0.3),\n",
            "<ipython-input-1-1f19dbb817cb>:44: FutureWarning: suggest_loguniform has been deprecated in v3.0.0. This feature will be removed in v6.0.0. See https://github.com/optuna/optuna/releases/tag/v3.0.0. Use suggest_float(..., log=True) instead.\n",
            "  \"l2_leaf_reg\": trial.suggest_loguniform(\"l2_leaf_reg\", 1, 10),\n",
            "[I 2025-03-26 09:42:56,366] Trial 16 finished with value: 1.0 and parameters: {'learning_rate': 0.07991608154225911, 'depth': 10, 'l2_leaf_reg': 9.693805178775344}. Best is trial 0 with value: 1.0.\n",
            "<ipython-input-1-1f19dbb817cb>:42: FutureWarning: suggest_loguniform has been deprecated in v3.0.0. This feature will be removed in v6.0.0. See https://github.com/optuna/optuna/releases/tag/v3.0.0. Use suggest_float(..., log=True) instead.\n",
            "  \"learning_rate\": trial.suggest_loguniform(\"learning_rate\", 0.01, 0.3),\n",
            "<ipython-input-1-1f19dbb817cb>:44: FutureWarning: suggest_loguniform has been deprecated in v3.0.0. This feature will be removed in v6.0.0. See https://github.com/optuna/optuna/releases/tag/v3.0.0. Use suggest_float(..., log=True) instead.\n",
            "  \"l2_leaf_reg\": trial.suggest_loguniform(\"l2_leaf_reg\", 1, 10),\n",
            "[I 2025-03-26 09:42:56,580] Trial 17 finished with value: 1.0 and parameters: {'learning_rate': 0.03605052062131616, 'depth': 7, 'l2_leaf_reg': 2.7364892750577106}. Best is trial 0 with value: 1.0.\n",
            "<ipython-input-1-1f19dbb817cb>:42: FutureWarning: suggest_loguniform has been deprecated in v3.0.0. This feature will be removed in v6.0.0. See https://github.com/optuna/optuna/releases/tag/v3.0.0. Use suggest_float(..., log=True) instead.\n",
            "  \"learning_rate\": trial.suggest_loguniform(\"learning_rate\", 0.01, 0.3),\n",
            "<ipython-input-1-1f19dbb817cb>:44: FutureWarning: suggest_loguniform has been deprecated in v3.0.0. This feature will be removed in v6.0.0. See https://github.com/optuna/optuna/releases/tag/v3.0.0. Use suggest_float(..., log=True) instead.\n",
            "  \"l2_leaf_reg\": trial.suggest_loguniform(\"l2_leaf_reg\", 1, 10),\n",
            "[I 2025-03-26 09:42:56,761] Trial 18 finished with value: 1.0 and parameters: {'learning_rate': 0.12224485893148675, 'depth': 5, 'l2_leaf_reg': 3.6212932395595714}. Best is trial 0 with value: 1.0.\n",
            "<ipython-input-1-1f19dbb817cb>:42: FutureWarning: suggest_loguniform has been deprecated in v3.0.0. This feature will be removed in v6.0.0. See https://github.com/optuna/optuna/releases/tag/v3.0.0. Use suggest_float(..., log=True) instead.\n",
            "  \"learning_rate\": trial.suggest_loguniform(\"learning_rate\", 0.01, 0.3),\n",
            "<ipython-input-1-1f19dbb817cb>:44: FutureWarning: suggest_loguniform has been deprecated in v3.0.0. This feature will be removed in v6.0.0. See https://github.com/optuna/optuna/releases/tag/v3.0.0. Use suggest_float(..., log=True) instead.\n",
            "  \"l2_leaf_reg\": trial.suggest_loguniform(\"l2_leaf_reg\", 1, 10),\n",
            "[I 2025-03-26 09:42:57,227] Trial 19 finished with value: 1.0 and parameters: {'learning_rate': 0.2174330547604899, 'depth': 8, 'l2_leaf_reg': 6.871488575111842}. Best is trial 0 with value: 1.0.\n",
            "<ipython-input-1-1f19dbb817cb>:42: FutureWarning: suggest_loguniform has been deprecated in v3.0.0. This feature will be removed in v6.0.0. See https://github.com/optuna/optuna/releases/tag/v3.0.0. Use suggest_float(..., log=True) instead.\n",
            "  \"learning_rate\": trial.suggest_loguniform(\"learning_rate\", 0.01, 0.3),\n",
            "<ipython-input-1-1f19dbb817cb>:44: FutureWarning: suggest_loguniform has been deprecated in v3.0.0. This feature will be removed in v6.0.0. See https://github.com/optuna/optuna/releases/tag/v3.0.0. Use suggest_float(..., log=True) instead.\n",
            "  \"l2_leaf_reg\": trial.suggest_loguniform(\"l2_leaf_reg\", 1, 10),\n",
            "[I 2025-03-26 09:42:57,602] Trial 20 finished with value: 1.0 and parameters: {'learning_rate': 0.06505316207322116, 'depth': 5, 'l2_leaf_reg': 3.999302582905845}. Best is trial 0 with value: 1.0.\n",
            "<ipython-input-1-1f19dbb817cb>:42: FutureWarning: suggest_loguniform has been deprecated in v3.0.0. This feature will be removed in v6.0.0. See https://github.com/optuna/optuna/releases/tag/v3.0.0. Use suggest_float(..., log=True) instead.\n",
            "  \"learning_rate\": trial.suggest_loguniform(\"learning_rate\", 0.01, 0.3),\n",
            "<ipython-input-1-1f19dbb817cb>:44: FutureWarning: suggest_loguniform has been deprecated in v3.0.0. This feature will be removed in v6.0.0. See https://github.com/optuna/optuna/releases/tag/v3.0.0. Use suggest_float(..., log=True) instead.\n",
            "  \"l2_leaf_reg\": trial.suggest_loguniform(\"l2_leaf_reg\", 1, 10),\n",
            "[I 2025-03-26 09:42:58,191] Trial 21 finished with value: 1.0 and parameters: {'learning_rate': 0.2140729397982428, 'depth': 9, 'l2_leaf_reg': 2.265779162945917}. Best is trial 0 with value: 1.0.\n",
            "<ipython-input-1-1f19dbb817cb>:42: FutureWarning: suggest_loguniform has been deprecated in v3.0.0. This feature will be removed in v6.0.0. See https://github.com/optuna/optuna/releases/tag/v3.0.0. Use suggest_float(..., log=True) instead.\n",
            "  \"learning_rate\": trial.suggest_loguniform(\"learning_rate\", 0.01, 0.3),\n",
            "<ipython-input-1-1f19dbb817cb>:44: FutureWarning: suggest_loguniform has been deprecated in v3.0.0. This feature will be removed in v6.0.0. See https://github.com/optuna/optuna/releases/tag/v3.0.0. Use suggest_float(..., log=True) instead.\n",
            "  \"l2_leaf_reg\": trial.suggest_loguniform(\"l2_leaf_reg\", 1, 10),\n",
            "[I 2025-03-26 09:42:58,839] Trial 22 finished with value: 1.0 and parameters: {'learning_rate': 0.25138300635074057, 'depth': 9, 'l2_leaf_reg': 1.6077700545084013}. Best is trial 0 with value: 1.0.\n",
            "<ipython-input-1-1f19dbb817cb>:42: FutureWarning: suggest_loguniform has been deprecated in v3.0.0. This feature will be removed in v6.0.0. See https://github.com/optuna/optuna/releases/tag/v3.0.0. Use suggest_float(..., log=True) instead.\n",
            "  \"learning_rate\": trial.suggest_loguniform(\"learning_rate\", 0.01, 0.3),\n",
            "<ipython-input-1-1f19dbb817cb>:44: FutureWarning: suggest_loguniform has been deprecated in v3.0.0. This feature will be removed in v6.0.0. See https://github.com/optuna/optuna/releases/tag/v3.0.0. Use suggest_float(..., log=True) instead.\n",
            "  \"l2_leaf_reg\": trial.suggest_loguniform(\"l2_leaf_reg\", 1, 10),\n",
            "[I 2025-03-26 09:42:59,163] Trial 23 finished with value: 1.0 and parameters: {'learning_rate': 0.29059071359046795, 'depth': 7, 'l2_leaf_reg': 5.955451709768559}. Best is trial 0 with value: 1.0.\n",
            "<ipython-input-1-1f19dbb817cb>:42: FutureWarning: suggest_loguniform has been deprecated in v3.0.0. This feature will be removed in v6.0.0. See https://github.com/optuna/optuna/releases/tag/v3.0.0. Use suggest_float(..., log=True) instead.\n",
            "  \"learning_rate\": trial.suggest_loguniform(\"learning_rate\", 0.01, 0.3),\n",
            "<ipython-input-1-1f19dbb817cb>:44: FutureWarning: suggest_loguniform has been deprecated in v3.0.0. This feature will be removed in v6.0.0. See https://github.com/optuna/optuna/releases/tag/v3.0.0. Use suggest_float(..., log=True) instead.\n",
            "  \"l2_leaf_reg\": trial.suggest_loguniform(\"l2_leaf_reg\", 1, 10),\n",
            "[I 2025-03-26 09:42:59,821] Trial 24 finished with value: 1.0 and parameters: {'learning_rate': 0.09120748023592842, 'depth': 10, 'l2_leaf_reg': 4.232919791424776}. Best is trial 0 with value: 1.0.\n",
            "<ipython-input-1-1f19dbb817cb>:42: FutureWarning: suggest_loguniform has been deprecated in v3.0.0. This feature will be removed in v6.0.0. See https://github.com/optuna/optuna/releases/tag/v3.0.0. Use suggest_float(..., log=True) instead.\n",
            "  \"learning_rate\": trial.suggest_loguniform(\"learning_rate\", 0.01, 0.3),\n",
            "<ipython-input-1-1f19dbb817cb>:44: FutureWarning: suggest_loguniform has been deprecated in v3.0.0. This feature will be removed in v6.0.0. See https://github.com/optuna/optuna/releases/tag/v3.0.0. Use suggest_float(..., log=True) instead.\n",
            "  \"l2_leaf_reg\": trial.suggest_loguniform(\"l2_leaf_reg\", 1, 10),\n",
            "[I 2025-03-26 09:43:00,082] Trial 25 finished with value: 1.0 and parameters: {'learning_rate': 0.1598425591248721, 'depth': 8, 'l2_leaf_reg': 1.0193060827030214}. Best is trial 0 with value: 1.0.\n",
            "<ipython-input-1-1f19dbb817cb>:42: FutureWarning: suggest_loguniform has been deprecated in v3.0.0. This feature will be removed in v6.0.0. See https://github.com/optuna/optuna/releases/tag/v3.0.0. Use suggest_float(..., log=True) instead.\n",
            "  \"learning_rate\": trial.suggest_loguniform(\"learning_rate\", 0.01, 0.3),\n",
            "<ipython-input-1-1f19dbb817cb>:44: FutureWarning: suggest_loguniform has been deprecated in v3.0.0. This feature will be removed in v6.0.0. See https://github.com/optuna/optuna/releases/tag/v3.0.0. Use suggest_float(..., log=True) instead.\n",
            "  \"l2_leaf_reg\": trial.suggest_loguniform(\"l2_leaf_reg\", 1, 10),\n",
            "[I 2025-03-26 09:43:00,389] Trial 26 finished with value: 1.0 and parameters: {'learning_rate': 0.01578277611215265, 'depth': 9, 'l2_leaf_reg': 2.6050454506712937}. Best is trial 0 with value: 1.0.\n",
            "<ipython-input-1-1f19dbb817cb>:42: FutureWarning: suggest_loguniform has been deprecated in v3.0.0. This feature will be removed in v6.0.0. See https://github.com/optuna/optuna/releases/tag/v3.0.0. Use suggest_float(..., log=True) instead.\n",
            "  \"learning_rate\": trial.suggest_loguniform(\"learning_rate\", 0.01, 0.3),\n",
            "<ipython-input-1-1f19dbb817cb>:44: FutureWarning: suggest_loguniform has been deprecated in v3.0.0. This feature will be removed in v6.0.0. See https://github.com/optuna/optuna/releases/tag/v3.0.0. Use suggest_float(..., log=True) instead.\n",
            "  \"l2_leaf_reg\": trial.suggest_loguniform(\"l2_leaf_reg\", 1, 10),\n",
            "[I 2025-03-26 09:43:00,666] Trial 27 finished with value: 1.0 and parameters: {'learning_rate': 0.035287131477238186, 'depth': 8, 'l2_leaf_reg': 3.079491467057529}. Best is trial 0 with value: 1.0.\n",
            "<ipython-input-1-1f19dbb817cb>:42: FutureWarning: suggest_loguniform has been deprecated in v3.0.0. This feature will be removed in v6.0.0. See https://github.com/optuna/optuna/releases/tag/v3.0.0. Use suggest_float(..., log=True) instead.\n",
            "  \"learning_rate\": trial.suggest_loguniform(\"learning_rate\", 0.01, 0.3),\n",
            "<ipython-input-1-1f19dbb817cb>:44: FutureWarning: suggest_loguniform has been deprecated in v3.0.0. This feature will be removed in v6.0.0. See https://github.com/optuna/optuna/releases/tag/v3.0.0. Use suggest_float(..., log=True) instead.\n",
            "  \"l2_leaf_reg\": trial.suggest_loguniform(\"l2_leaf_reg\", 1, 10),\n",
            "[I 2025-03-26 09:43:00,847] Trial 28 finished with value: 1.0 and parameters: {'learning_rate': 0.05620693050048849, 'depth': 6, 'l2_leaf_reg': 2.001202683799414}. Best is trial 0 with value: 1.0.\n",
            "<ipython-input-1-1f19dbb817cb>:42: FutureWarning: suggest_loguniform has been deprecated in v3.0.0. This feature will be removed in v6.0.0. See https://github.com/optuna/optuna/releases/tag/v3.0.0. Use suggest_float(..., log=True) instead.\n",
            "  \"learning_rate\": trial.suggest_loguniform(\"learning_rate\", 0.01, 0.3),\n",
            "<ipython-input-1-1f19dbb817cb>:44: FutureWarning: suggest_loguniform has been deprecated in v3.0.0. This feature will be removed in v6.0.0. See https://github.com/optuna/optuna/releases/tag/v3.0.0. Use suggest_float(..., log=True) instead.\n",
            "  \"l2_leaf_reg\": trial.suggest_loguniform(\"l2_leaf_reg\", 1, 10),\n",
            "[I 2025-03-26 09:43:01,055] Trial 29 finished with value: 1.0 and parameters: {'learning_rate': 0.11974175841719947, 'depth': 7, 'l2_leaf_reg': 8.126972301003374}. Best is trial 0 with value: 1.0.\n"
          ]
        },
        {
          "output_type": "stream",
          "name": "stdout",
          "text": [
            "\n",
            "✅ Best trial:\n",
            "FrozenTrial(number=0, state=1, values=[1.0], datetime_start=datetime.datetime(2025, 3, 26, 9, 42, 49, 771423), datetime_complete=datetime.datetime(2025, 3, 26, 9, 42, 50, 349828), params={'learning_rate': 0.05185916743101991, 'depth': 7, 'l2_leaf_reg': 4.950278393536486}, user_attrs={}, system_attrs={}, intermediate_values={}, distributions={'learning_rate': FloatDistribution(high=0.3, log=True, low=0.01, step=None), 'depth': IntDistribution(high=10, log=False, low=4, step=1), 'l2_leaf_reg': FloatDistribution(high=10.0, log=True, low=1.0, step=None)}, trial_id=0, value=None)\n",
            "0:\tlearn: 0.4994757\ttest: 0.4997434\tbest: 0.4997434 (0)\ttotal: 2.79ms\tremaining: 1.39s\n",
            "100:\tlearn: 0.0002440\ttest: 0.0002881\tbest: 0.0002881 (100)\ttotal: 455ms\tremaining: 1.8s\n",
            "200:\tlearn: 0.0001124\ttest: 0.0001476\tbest: 0.0001476 (200)\ttotal: 1.38s\tremaining: 2.05s\n",
            "300:\tlearn: 0.0001040\ttest: 0.0001380\tbest: 0.0001380 (300)\ttotal: 1.83s\tremaining: 1.21s\n",
            "400:\tlearn: 0.0001026\ttest: 0.0001364\tbest: 0.0001364 (400)\ttotal: 2.27s\tremaining: 560ms\n",
            "499:\tlearn: 0.0001018\ttest: 0.0001354\tbest: 0.0001354 (422)\ttotal: 2.7s\tremaining: 0us\n",
            "\n",
            "bestTest = 0.0001354005568\n",
            "bestIteration = 422\n",
            "\n",
            "Shrink model to first 423 iterations.\n",
            "✅ Uploaded CatBoost model to GCS → gs://boothill2001-dataset/clickstream/models/catboost_model.cbm\n",
            "\n",
            "✅ Advanced modeling complete. Metrics:\n",
            "{'roc_auc': 1.0, 'f1_score': 1.0, 'best_params': {'learning_rate': 0.05185916743101991, 'depth': 7, 'l2_leaf_reg': 4.950278393536486}}\n"
          ]
        }
      ],
      "source": [
        "import pandas as pd\n",
        "import numpy as np\n",
        "import os\n",
        "import json\n",
        "import optuna\n",
        "from sklearn.model_selection import train_test_split\n",
        "from sklearn.metrics import roc_auc_score, f1_score\n",
        "from catboost import CatBoostClassifier, Pool\n",
        "from google.cloud import storage\n",
        "\n",
        "from google.colab import auth\n",
        "\n",
        "# 🔐 Authenticate GCP\n",
        "auth.authenticate_user()\n",
        "\n",
        "# ✅ Step 1: Download cleaned dataset from GCS\n",
        "gcs_path = \"clickstream/session_features_clean.csv\"\n",
        "local_path = \"../data/session_features_clean.csv\"\n",
        "os.makedirs(\"../data\", exist_ok=True)\n",
        "\n",
        "client = storage.Client()\n",
        "bucket = client.bucket(\"boothill2001-dataset\")\n",
        "blob = bucket.blob(gcs_path)\n",
        "blob.download_to_filename(local_path)\n",
        "print(f\"✅ Downloaded cleaned dataset to {local_path}\")\n",
        "\n",
        "# ✅ Step 2: Load data\n",
        "df = pd.read_csv(local_path)\n",
        "X = df.drop(columns=[\"user_session\", \"conversion\"])\n",
        "y = df[\"conversion\"]\n",
        "\n",
        "# ✅ Step 3: Train/test split\n",
        "X_train, X_test, y_train, y_test = train_test_split(X, y, stratify=y, test_size=0.2, random_state=42)\n",
        "train_pool = Pool(X_train, y_train)\n",
        "test_pool = Pool(X_test, y_test)\n",
        "\n",
        "# ✅ Step 4: Define Optuna objective\n",
        "\n",
        "def objective(trial):\n",
        "    params = {\n",
        "        \"iterations\": 300,\n",
        "        \"learning_rate\": trial.suggest_loguniform(\"learning_rate\", 0.01, 0.3),\n",
        "        \"depth\": trial.suggest_int(\"depth\", 4, 10),\n",
        "        \"l2_leaf_reg\": trial.suggest_loguniform(\"l2_leaf_reg\", 1, 10),\n",
        "        \"random_seed\": 42,\n",
        "        \"verbose\": 0,\n",
        "        \"loss_function\": \"Logloss\",\n",
        "        \"eval_metric\": \"AUC\"\n",
        "    }\n",
        "    model = CatBoostClassifier(**params)\n",
        "    model.fit(train_pool, eval_set=test_pool, early_stopping_rounds=30, verbose=0)\n",
        "    preds = model.predict_proba(X_test)[:, 1]\n",
        "    return roc_auc_score(y_test, preds)\n",
        "\n",
        "# ✅ Step 5: Run Optuna study\n",
        "study = optuna.create_study(direction=\"maximize\")\n",
        "study.optimize(objective, n_trials=30)\n",
        "\n",
        "print(\"\\n✅ Best trial:\")\n",
        "print(study.best_trial)\n",
        "best_params = study.best_trial.params\n",
        "\n",
        "# ✅ Step 6: Train final model with best params\n",
        "final_model = CatBoostClassifier(\n",
        "    iterations=500,\n",
        "    random_seed=42,\n",
        "    verbose=100,\n",
        "    **best_params\n",
        ")\n",
        "final_model.fit(train_pool, eval_set=test_pool)\n",
        "\n",
        "# ✅ Step 7: Evaluate final model\n",
        "preds_final = final_model.predict_proba(X_test)[:, 1]\n",
        "preds_label = final_model.predict(X_test)\n",
        "auc = roc_auc_score(y_test, preds_final)\n",
        "f1 = f1_score(y_test, preds_label)\n",
        "\n",
        "metrics = {\n",
        "    \"roc_auc\": auc,\n",
        "    \"f1_score\": f1,\n",
        "    \"best_params\": best_params\n",
        "}\n",
        "\n",
        "os.makedirs(\"../outputs\", exist_ok=True)\n",
        "with open(\"../outputs/catboost_optuna_summary.json\", \"w\") as f:\n",
        "    json.dump(metrics, f, indent=2)\n",
        "\n",
        "# ✅ Save model\n",
        "os.makedirs(\"../models\", exist_ok=True)\n",
        "model_path = \"../models/catboost_model.cbm\"\n",
        "final_model.save_model(model_path)\n",
        "\n",
        "# ✅ Upload model to GCS\n",
        "gcs_model_path = \"clickstream/models/catboost_model.cbm\"\n",
        "blob_model = bucket.blob(gcs_model_path)\n",
        "blob_model.upload_from_filename(model_path)\n",
        "print(f\"✅ Uploaded CatBoost model to GCS → gs://boothill2001-dataset/{gcs_model_path}\")\n",
        "\n",
        "print(\"\\n✅ Advanced modeling complete. Metrics:\")\n",
        "print(metrics)\n"
      ]
    }
  ]
}
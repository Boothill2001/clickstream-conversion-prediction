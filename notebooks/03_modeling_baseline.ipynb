{
  "nbformat": 4,
  "nbformat_minor": 0,
  "metadata": {
    "colab": {
      "provenance": []
    },
    "kernelspec": {
      "name": "python3",
      "display_name": "Python 3"
    },
    "language_info": {
      "name": "python"
    }
  },
  "cells": [
    {
      "cell_type": "markdown",
      "source": [
        "# 📘 Notebook 03 – Modeling Baseline: Logistic Regression & XGBoost\n",
        "\n",
        "🎯 **Objective:**\n",
        "Train and evaluate baseline models (Logistic Regression & XGBoost) on session_features_clean.csv to predict conversion.\n",
        "\n",
        "---"
      ],
      "metadata": {
        "id": "bd7pWlG3yQVS"
      }
    },
    {
      "cell_type": "code",
      "source": [
        "from google.colab import auth\n",
        "\n",
        "# 🔐 Authenticate GCP\n",
        "auth.authenticate_user()"
      ],
      "metadata": {
        "id": "WzsYy88oofPp"
      },
      "execution_count": 2,
      "outputs": []
    },
    {
      "cell_type": "code",
      "execution_count": 3,
      "metadata": {
        "colab": {
          "base_uri": "https://localhost:8080/"
        },
        "id": "LDtedhiMyK1U",
        "outputId": "5b214da9-e48b-4c29-fa9c-c49a40cbf6e1"
      },
      "outputs": [
        {
          "output_type": "stream",
          "name": "stdout",
          "text": [
            "✅ Downloaded cleaned dataset to ../data/session_features_clean.csv\n",
            "\n",
            "✅ Baseline model evaluation saved to ../outputs/model_baseline_summary.json\n"
          ]
        },
        {
          "output_type": "stream",
          "name": "stderr",
          "text": [
            "/usr/local/lib/python3.11/dist-packages/xgboost/core.py:158: UserWarning: [09:31:51] WARNING: /workspace/src/learner.cc:740: \n",
            "Parameters: { \"use_label_encoder\" } are not used.\n",
            "\n",
            "  warnings.warn(smsg, UserWarning)\n"
          ]
        }
      ],
      "source": [
        "import pandas as pd\n",
        "import numpy as np\n",
        "import os\n",
        "import json\n",
        "from sklearn.model_selection import train_test_split\n",
        "from sklearn.linear_model import LogisticRegression\n",
        "from xgboost import XGBClassifier\n",
        "from sklearn.metrics import classification_report, roc_auc_score\n",
        "from google.cloud import storage\n",
        "\n",
        "\n",
        "# ✅ Step 1: Download cleaned dataset from GCS\n",
        "gcs_path = \"clickstream/session_features_clean.csv\"\n",
        "local_path = \"../data/session_features_clean.csv\"\n",
        "os.makedirs(\"../data\", exist_ok=True)\n",
        "\n",
        "client = storage.Client()\n",
        "bucket = client.bucket(\"boothill2001-dataset\")\n",
        "blob = bucket.blob(gcs_path)\n",
        "blob.download_to_filename(local_path)\n",
        "print(f\"✅ Downloaded cleaned dataset to {local_path}\")\n",
        "\n",
        "# ✅ Step 2: Load data\n",
        "df = pd.read_csv(local_path)\n",
        "\n",
        "# ✅ Step 3: Define features and target\n",
        "X = df.drop(columns=[\"user_session\", \"conversion\"])\n",
        "y = df[\"conversion\"]\n",
        "\n",
        "# ✅ Step 4: Train/test split\n",
        "X_train, X_test, y_train, y_test = train_test_split(X, y, stratify=y, test_size=0.2, random_state=42)\n",
        "\n",
        "# ✅ Step 5: Logistic Regression\n",
        "logreg = LogisticRegression(max_iter=1000)\n",
        "logreg.fit(X_train, y_train)\n",
        "y_pred_log = logreg.predict(X_test)\n",
        "y_prob_log = logreg.predict_proba(X_test)[:, 1]\n",
        "\n",
        "# ✅ Step 6: XGBoost\n",
        "xgb = XGBClassifier(use_label_encoder=False, eval_metric=\"logloss\", random_state=42)\n",
        "xgb.fit(X_train, y_train)\n",
        "y_pred_xgb = xgb.predict(X_test)\n",
        "y_prob_xgb = xgb.predict_proba(X_test)[:, 1]\n",
        "\n",
        "# ✅ Step 7: Evaluation\n",
        "results = {\n",
        "    \"logistic_regression\": {\n",
        "        \"report\": classification_report(y_test, y_pred_log, output_dict=True),\n",
        "        \"roc_auc\": roc_auc_score(y_test, y_prob_log)\n",
        "    },\n",
        "    \"xgboost\": {\n",
        "        \"report\": classification_report(y_test, y_pred_xgb, output_dict=True),\n",
        "        \"roc_auc\": roc_auc_score(y_test, y_prob_xgb)\n",
        "    }\n",
        "}\n",
        "\n",
        "# ✅ Save evaluation summary\n",
        "os.makedirs(\"../outputs\", exist_ok=True)\n",
        "with open(\"../outputs/model_baseline_summary.json\", \"w\") as f:\n",
        "    json.dump(results, f, indent=2)\n",
        "\n",
        "print(\"\\n✅ Baseline model evaluation saved to ../outputs/model_baseline_summary.json\")\n"
      ]
    },
    {
      "cell_type": "code",
      "source": [
        "import joblib\n",
        "\n",
        "# ✅ Create models folder\n",
        "os.makedirs(\"../models\", exist_ok=True)\n",
        "\n",
        "# Save Logistic Regression\n",
        "joblib.dump(logreg, \"../models/logreg_model.pkl\")\n",
        "\n",
        "# Save XGBoost (as JSON for compatibility)\n",
        "xgb.save_model(\"../models/xgb_model.json\")\n",
        "\n",
        "print(\"✅ Models saved locally to ../models/\")\n"
      ],
      "metadata": {
        "colab": {
          "base_uri": "https://localhost:8080/"
        },
        "id": "-O4XnzbxyWPe",
        "outputId": "20504d3b-53de-4afe-fe2a-9ae943ca1961"
      },
      "execution_count": 4,
      "outputs": [
        {
          "output_type": "stream",
          "name": "stdout",
          "text": [
            "✅ Models saved locally to ../models/\n"
          ]
        }
      ]
    },
    {
      "cell_type": "code",
      "source": [
        "# ✅ Upload models to GCS\n",
        "gcs_model_paths = {\n",
        "    \"logreg\": \"clickstream/models/logreg_model.pkl\",\n",
        "    \"xgboost\": \"clickstream/models/xgb_model.json\"\n",
        "}\n",
        "\n",
        "for name, path in gcs_model_paths.items():\n",
        "    local_model_path = f\"../models/{os.path.basename(path)}\"\n",
        "    blob = bucket.blob(path)\n",
        "    blob.upload_from_filename(local_model_path)\n",
        "    print(f\"✅ Uploaded {name} model to GCS → gs://boothill2001-dataset/{path}\")\n"
      ],
      "metadata": {
        "colab": {
          "base_uri": "https://localhost:8080/"
        },
        "id": "wQvoGCqzyYB3",
        "outputId": "ab736e58-ce0c-45cd-87b8-ea7874e8449b"
      },
      "execution_count": 5,
      "outputs": [
        {
          "output_type": "stream",
          "name": "stdout",
          "text": [
            "✅ Uploaded logreg model to GCS → gs://boothill2001-dataset/clickstream/models/logreg_model.pkl\n",
            "✅ Uploaded xgboost model to GCS → gs://boothill2001-dataset/clickstream/models/xgb_model.json\n"
          ]
        }
      ]
    }
  ]
}